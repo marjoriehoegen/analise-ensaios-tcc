{
 "cells": [
  {
   "cell_type": "markdown",
   "metadata": {},
   "source": [
    "## Análise de ensaios de caracterização magnética de aços para fins elétricos\n",
    "\n",
    "Esse notebook descreve as análises realizadas a partir da aplicação da técnica de planejamento de experimentos (Design of Experiments - DOE) em ensaios de caracterização magnética. O objetivo foi analisar o efeito de quatro fatores nas medições de perdas totais magnéticas e permeabilidade magnética: direção de laminação, equipamento de teste, frequência do ensaio e classe do aço."
   ]
  },
  {
   "cell_type": "markdown",
   "metadata": {},
   "source": [
    "O primeiro passo para realizar as análises é ler os dados dos ensaios realizados."
   ]
  },
  {
   "cell_type": "code",
   "execution_count": 18,
   "metadata": {},
   "outputs": [],
   "source": [
    "import pandas as pd\n",
    "import numpy as np\n",
    "import seaborn as sns\n",
    "import matplotlib.pyplot as plt\n",
    "%matplotlib inline"
   ]
  },
  {
   "cell_type": "code",
   "execution_count": 3,
   "metadata": {},
   "outputs": [],
   "source": [
    "# Salva os dados em um data frame e exclui colunas desnecessárias\n",
    "df = pd.read_excel('Dados_TCC.xlsx', sheet_name='Página1')\n",
    "df = df.drop(['StdOrder','RunOrder','CenterPt','Blocks'],axis=1)"
   ]
  },
  {
   "cell_type": "markdown",
   "metadata": {},
   "source": [
    "Analisando o data frame, é possível ver os 4 fatores e as 6 variáveis resposta."
   ]
  },
  {
   "cell_type": "code",
   "execution_count": 4,
   "metadata": {},
   "outputs": [
    {
     "data": {
      "text/html": [
       "<div>\n",
       "<style scoped>\n",
       "    .dataframe tbody tr th:only-of-type {\n",
       "        vertical-align: middle;\n",
       "    }\n",
       "\n",
       "    .dataframe tbody tr th {\n",
       "        vertical-align: top;\n",
       "    }\n",
       "\n",
       "    .dataframe thead th {\n",
       "        text-align: right;\n",
       "    }\n",
       "</style>\n",
       "<table border=\"1\" class=\"dataframe\">\n",
       "  <thead>\n",
       "    <tr style=\"text-align: right;\">\n",
       "      <th></th>\n",
       "      <th>Direção de laminação</th>\n",
       "      <th>Equipamento de teste</th>\n",
       "      <th>Frequência</th>\n",
       "      <th>Classe do aço</th>\n",
       "      <th>Perdas Totais 0,5T</th>\n",
       "      <th>Perdas Totais 1,0T</th>\n",
       "      <th>Perdas Totais 1,5T</th>\n",
       "      <th>Permeabilidade 0,5T</th>\n",
       "      <th>Permeabilidade 1,0T</th>\n",
       "      <th>Permeabilidade 1,5T</th>\n",
       "    </tr>\n",
       "  </thead>\n",
       "  <tbody>\n",
       "    <tr>\n",
       "      <th>0</th>\n",
       "      <td>Transversal</td>\n",
       "      <td>Epstein</td>\n",
       "      <td>50Hz</td>\n",
       "      <td>U450</td>\n",
       "      <td>0.764216</td>\n",
       "      <td>2.630147</td>\n",
       "      <td>6.465046</td>\n",
       "      <td>4771.051450</td>\n",
       "      <td>5526.146124</td>\n",
       "      <td>630.634533</td>\n",
       "    </tr>\n",
       "    <tr>\n",
       "      <th>1</th>\n",
       "      <td>Transversal</td>\n",
       "      <td>Epstein</td>\n",
       "      <td>10Hz</td>\n",
       "      <td>E170</td>\n",
       "      <td>0.083646</td>\n",
       "      <td>0.232365</td>\n",
       "      <td>0.469293</td>\n",
       "      <td>3951.397922</td>\n",
       "      <td>4088.188611</td>\n",
       "      <td>1179.579641</td>\n",
       "    </tr>\n",
       "    <tr>\n",
       "      <th>2</th>\n",
       "      <td>Transversal</td>\n",
       "      <td>SST</td>\n",
       "      <td>50Hz</td>\n",
       "      <td>E170</td>\n",
       "      <td>0.527970</td>\n",
       "      <td>1.590981</td>\n",
       "      <td>3.379449</td>\n",
       "      <td>3775.970047</td>\n",
       "      <td>4075.751922</td>\n",
       "      <td>1090.606879</td>\n",
       "    </tr>\n",
       "    <tr>\n",
       "      <th>3</th>\n",
       "      <td>Longitudinal</td>\n",
       "      <td>SST</td>\n",
       "      <td>50Hz</td>\n",
       "      <td>E170</td>\n",
       "      <td>0.346557</td>\n",
       "      <td>1.220861</td>\n",
       "      <td>2.719481</td>\n",
       "      <td>10313.357518</td>\n",
       "      <td>12091.234842</td>\n",
       "      <td>2454.666197</td>\n",
       "    </tr>\n",
       "    <tr>\n",
       "      <th>4</th>\n",
       "      <td>Longitudinal</td>\n",
       "      <td>SST</td>\n",
       "      <td>10Hz</td>\n",
       "      <td>U450</td>\n",
       "      <td>0.103082</td>\n",
       "      <td>0.322354</td>\n",
       "      <td>0.721716</td>\n",
       "      <td>6220.161759</td>\n",
       "      <td>5841.946697</td>\n",
       "      <td>1821.252977</td>\n",
       "    </tr>\n",
       "  </tbody>\n",
       "</table>\n",
       "</div>"
      ],
      "text/plain": [
       "  Direção de laminação Equipamento de teste Frequência Classe do aço  \\\n",
       "0          Transversal              Epstein       50Hz          U450   \n",
       "1          Transversal              Epstein       10Hz          E170   \n",
       "2          Transversal                  SST       50Hz          E170   \n",
       "3         Longitudinal                  SST       50Hz          E170   \n",
       "4         Longitudinal                  SST       10Hz          U450   \n",
       "\n",
       "   Perdas Totais 0,5T  Perdas Totais 1,0T  Perdas Totais 1,5T  \\\n",
       "0            0.764216            2.630147            6.465046   \n",
       "1            0.083646            0.232365            0.469293   \n",
       "2            0.527970            1.590981            3.379449   \n",
       "3            0.346557            1.220861            2.719481   \n",
       "4            0.103082            0.322354            0.721716   \n",
       "\n",
       "   Permeabilidade 0,5T  Permeabilidade 1,0T  Permeabilidade 1,5T  \n",
       "0          4771.051450          5526.146124           630.634533  \n",
       "1          3951.397922          4088.188611          1179.579641  \n",
       "2          3775.970047          4075.751922          1090.606879  \n",
       "3         10313.357518         12091.234842          2454.666197  \n",
       "4          6220.161759          5841.946697          1821.252977  "
      ]
     },
     "execution_count": 4,
     "metadata": {},
     "output_type": "execute_result"
    }
   ],
   "source": [
    "df.head()"
   ]
  },
  {
   "cell_type": "code",
   "execution_count": 11,
   "metadata": {},
   "outputs": [
    {
     "name": "stdout",
     "output_type": "stream",
     "text": [
      "<class 'pandas.core.frame.DataFrame'>\n",
      "RangeIndex: 48 entries, 0 to 47\n",
      "Data columns (total 10 columns):\n",
      "Direção de laminação    48 non-null object\n",
      "Equipamento de teste    48 non-null object\n",
      "Frequência              48 non-null object\n",
      "Classe do aço           48 non-null object\n",
      "Perdas Totais 0,5T      48 non-null float64\n",
      "Perdas Totais 1,0T      48 non-null float64\n",
      "Perdas Totais 1,5T      48 non-null float64\n",
      "Permeabilidade 0,5T     48 non-null float64\n",
      "Permeabilidade 1,0T     48 non-null float64\n",
      "Permeabilidade 1,5T     48 non-null float64\n",
      "dtypes: float64(6), object(4)\n",
      "memory usage: 3.9+ KB\n"
     ]
    }
   ],
   "source": [
    "df.info()"
   ]
  },
  {
   "cell_type": "markdown",
   "metadata": {},
   "source": [
    "Os fatores são variáveis categóricas que assumem dois valores possíveis, porém ainda falta convertê-los para esse tipo."
   ]
  },
  {
   "cell_type": "code",
   "execution_count": 12,
   "metadata": {},
   "outputs": [],
   "source": [
    "df['Direção de laminação'] = df['Direção de laminação'].astype('category')\n",
    "df['Equipamento de teste'] = df['Equipamento de teste'].astype('category')\n",
    "df['Frequência'] = df['Frequência'].astype('category')\n",
    "df['Classe do aço'] = df['Classe do aço'].astype('category')"
   ]
  },
  {
   "cell_type": "code",
   "execution_count": 13,
   "metadata": {},
   "outputs": [
    {
     "name": "stdout",
     "output_type": "stream",
     "text": [
      "<class 'pandas.core.frame.DataFrame'>\n",
      "RangeIndex: 48 entries, 0 to 47\n",
      "Data columns (total 10 columns):\n",
      "Direção de laminação    48 non-null category\n",
      "Equipamento de teste    48 non-null category\n",
      "Frequência              48 non-null category\n",
      "Classe do aço           48 non-null category\n",
      "Perdas Totais 0,5T      48 non-null float64\n",
      "Perdas Totais 1,0T      48 non-null float64\n",
      "Perdas Totais 1,5T      48 non-null float64\n",
      "Permeabilidade 0,5T     48 non-null float64\n",
      "Permeabilidade 1,0T     48 non-null float64\n",
      "Permeabilidade 1,5T     48 non-null float64\n",
      "dtypes: category(4), float64(6)\n",
      "memory usage: 2.9 KB\n"
     ]
    }
   ],
   "source": [
    "df.info()"
   ]
  },
  {
   "cell_type": "markdown",
   "metadata": {},
   "source": [
    "Para facilitar a análise, pode-se salvar os fatores e variáveis resposta como variáveis."
   ]
  },
  {
   "cell_type": "code",
   "execution_count": 14,
   "metadata": {},
   "outputs": [],
   "source": [
    "A = df['Direção de laminação']\n",
    "B = df['Equipamento de teste']\n",
    "C = df['Frequência']\n",
    "D = df['Classe do aço']\n",
    "\n",
    "perdas1 = df['Perdas Totais 0,5T']\n",
    "perdas2 = df['Perdas Totais 1,0T']\n",
    "perdas3 = df['Perdas Totais 1,5T']\n",
    "permeabilidade1 = df['Permeabilidade 0,5T']\n",
    "permeabilidade2 = df['Permeabilidade 1,0T']\n",
    "permeabilidade3 = df['Permeabilidade 1,5T']"
   ]
  },
  {
   "cell_type": "markdown",
   "metadata": {},
   "source": [
    "Os modelos serão estimados utilizando **statsmodel**, que possui diferentes modelos estatísticos. Nessas análises, será estimado um modelo por regressão linear e realizada a análise de variância (ANOVA) para identificar o efeito dos diferentes fatores nas variáveis resposta."
   ]
  },
  {
   "cell_type": "code",
   "execution_count": 15,
   "metadata": {},
   "outputs": [],
   "source": [
    "import statsmodels.api as sm\n",
    "from statsmodels.formula.api import ols\n",
    "import statsmodels.stats.api as sms"
   ]
  },
  {
   "cell_type": "code",
   "execution_count": 17,
   "metadata": {},
   "outputs": [
    {
     "data": {
      "text/html": [
       "<table class=\"simpletable\">\n",
       "<caption>OLS Regression Results</caption>\n",
       "<tr>\n",
       "  <th>Dep. Variable:</th>         <td>perdas1</td>     <th>  R-squared:         </th> <td>   0.995</td>\n",
       "</tr>\n",
       "<tr>\n",
       "  <th>Model:</th>                   <td>OLS</td>       <th>  Adj. R-squared:    </th> <td>   0.994</td>\n",
       "</tr>\n",
       "<tr>\n",
       "  <th>Method:</th>             <td>Least Squares</td>  <th>  F-statistic:       </th> <td>   815.3</td>\n",
       "</tr>\n",
       "<tr>\n",
       "  <th>Date:</th>             <td>Tue, 06 Aug 2019</td> <th>  Prob (F-statistic):</th> <td>3.27e-40</td>\n",
       "</tr>\n",
       "<tr>\n",
       "  <th>Time:</th>                 <td>18:59:46</td>     <th>  Log-Likelihood:    </th> <td>  120.58</td>\n",
       "</tr>\n",
       "<tr>\n",
       "  <th>No. Observations:</th>      <td>    48</td>      <th>  AIC:               </th> <td>  -219.2</td>\n",
       "</tr>\n",
       "<tr>\n",
       "  <th>Df Residuals:</th>          <td>    37</td>      <th>  BIC:               </th> <td>  -198.6</td>\n",
       "</tr>\n",
       "<tr>\n",
       "  <th>Df Model:</th>              <td>    10</td>      <th>                     </th>     <td> </td>   \n",
       "</tr>\n",
       "<tr>\n",
       "  <th>Covariance Type:</th>      <td>nonrobust</td>    <th>                     </th>     <td> </td>   \n",
       "</tr>\n",
       "</table>\n",
       "<table class=\"simpletable\">\n",
       "<tr>\n",
       "               <td></td>                 <th>coef</th>     <th>std err</th>      <th>t</th>      <th>P>|t|</th>  <th>[0.025</th>    <th>0.975]</th>  \n",
       "</tr>\n",
       "<tr>\n",
       "  <th>Intercept</th>                  <td>    0.0304</td> <td>    0.011</td> <td>    2.845</td> <td> 0.007</td> <td>    0.009</td> <td>    0.052</td>\n",
       "</tr>\n",
       "<tr>\n",
       "  <th>A[T.Transversal]</th>           <td>    0.0679</td> <td>    0.013</td> <td>    5.264</td> <td> 0.000</td> <td>    0.042</td> <td>    0.094</td>\n",
       "</tr>\n",
       "<tr>\n",
       "  <th>B[T.SST]</th>                   <td>   -0.0013</td> <td>    0.013</td> <td>   -0.104</td> <td> 0.917</td> <td>   -0.027</td> <td>    0.025</td>\n",
       "</tr>\n",
       "<tr>\n",
       "  <th>C[T.50Hz]</th>                  <td>    0.3567</td> <td>    0.013</td> <td>   27.643</td> <td> 0.000</td> <td>    0.331</td> <td>    0.383</td>\n",
       "</tr>\n",
       "<tr>\n",
       "  <th>D[T.U450]</th>                  <td>    0.0923</td> <td>    0.013</td> <td>    7.152</td> <td> 0.000</td> <td>    0.066</td> <td>    0.118</td>\n",
       "</tr>\n",
       "<tr>\n",
       "  <th>A[T.Transversal]:B[T.SST]</th>  <td>    0.0086</td> <td>    0.013</td> <td>    0.665</td> <td> 0.510</td> <td>   -0.018</td> <td>    0.035</td>\n",
       "</tr>\n",
       "<tr>\n",
       "  <th>A[T.Transversal]:C[T.50Hz]</th> <td>    0.0597</td> <td>    0.013</td> <td>    4.625</td> <td> 0.000</td> <td>    0.034</td> <td>    0.086</td>\n",
       "</tr>\n",
       "<tr>\n",
       "  <th>A[T.Transversal]:D[T.U450]</th> <td>   -0.1077</td> <td>    0.013</td> <td>   -8.344</td> <td> 0.000</td> <td>   -0.134</td> <td>   -0.082</td>\n",
       "</tr>\n",
       "<tr>\n",
       "  <th>B[T.SST]:C[T.50Hz]</th>         <td>   -0.0015</td> <td>    0.013</td> <td>   -0.113</td> <td> 0.911</td> <td>   -0.028</td> <td>    0.025</td>\n",
       "</tr>\n",
       "<tr>\n",
       "  <th>B[T.SST]:D[T.U450]</th>         <td>   -0.0047</td> <td>    0.013</td> <td>   -0.362</td> <td> 0.720</td> <td>   -0.031</td> <td>    0.021</td>\n",
       "</tr>\n",
       "<tr>\n",
       "  <th>C[T.50Hz]:D[T.U450]</th>        <td>    0.2872</td> <td>    0.013</td> <td>   22.260</td> <td> 0.000</td> <td>    0.261</td> <td>    0.313</td>\n",
       "</tr>\n",
       "</table>\n",
       "<table class=\"simpletable\">\n",
       "<tr>\n",
       "  <th>Omnibus:</th>       <td>57.000</td> <th>  Durbin-Watson:     </th> <td>   2.157</td>\n",
       "</tr>\n",
       "<tr>\n",
       "  <th>Prob(Omnibus):</th> <td> 0.000</td> <th>  Jarque-Bera (JB):  </th> <td>   5.032</td>\n",
       "</tr>\n",
       "<tr>\n",
       "  <th>Skew:</th>          <td>-0.093</td> <th>  Prob(JB):          </th> <td>  0.0808</td>\n",
       "</tr>\n",
       "<tr>\n",
       "  <th>Kurtosis:</th>      <td> 1.425</td> <th>  Cond. No.          </th> <td>    11.9</td>\n",
       "</tr>\n",
       "</table><br/><br/>Warnings:<br/>[1] Standard Errors assume that the covariance matrix of the errors is correctly specified."
      ],
      "text/plain": [
       "<class 'statsmodels.iolib.summary.Summary'>\n",
       "\"\"\"\n",
       "                            OLS Regression Results                            \n",
       "==============================================================================\n",
       "Dep. Variable:                perdas1   R-squared:                       0.995\n",
       "Model:                            OLS   Adj. R-squared:                  0.994\n",
       "Method:                 Least Squares   F-statistic:                     815.3\n",
       "Date:                Tue, 06 Aug 2019   Prob (F-statistic):           3.27e-40\n",
       "Time:                        18:59:46   Log-Likelihood:                 120.58\n",
       "No. Observations:                  48   AIC:                            -219.2\n",
       "Df Residuals:                      37   BIC:                            -198.6\n",
       "Df Model:                          10                                         \n",
       "Covariance Type:            nonrobust                                         \n",
       "==============================================================================================\n",
       "                                 coef    std err          t      P>|t|      [0.025      0.975]\n",
       "----------------------------------------------------------------------------------------------\n",
       "Intercept                      0.0304      0.011      2.845      0.007       0.009       0.052\n",
       "A[T.Transversal]               0.0679      0.013      5.264      0.000       0.042       0.094\n",
       "B[T.SST]                      -0.0013      0.013     -0.104      0.917      -0.027       0.025\n",
       "C[T.50Hz]                      0.3567      0.013     27.643      0.000       0.331       0.383\n",
       "D[T.U450]                      0.0923      0.013      7.152      0.000       0.066       0.118\n",
       "A[T.Transversal]:B[T.SST]      0.0086      0.013      0.665      0.510      -0.018       0.035\n",
       "A[T.Transversal]:C[T.50Hz]     0.0597      0.013      4.625      0.000       0.034       0.086\n",
       "A[T.Transversal]:D[T.U450]    -0.1077      0.013     -8.344      0.000      -0.134      -0.082\n",
       "B[T.SST]:C[T.50Hz]            -0.0015      0.013     -0.113      0.911      -0.028       0.025\n",
       "B[T.SST]:D[T.U450]            -0.0047      0.013     -0.362      0.720      -0.031       0.021\n",
       "C[T.50Hz]:D[T.U450]            0.2872      0.013     22.260      0.000       0.261       0.313\n",
       "==============================================================================\n",
       "Omnibus:                       57.000   Durbin-Watson:                   2.157\n",
       "Prob(Omnibus):                  0.000   Jarque-Bera (JB):                5.032\n",
       "Skew:                          -0.093   Prob(JB):                       0.0808\n",
       "Kurtosis:                       1.425   Cond. No.                         11.9\n",
       "==============================================================================\n",
       "\n",
       "Warnings:\n",
       "[1] Standard Errors assume that the covariance matrix of the errors is correctly specified.\n",
       "\"\"\""
      ]
     },
     "execution_count": 17,
     "metadata": {},
     "output_type": "execute_result"
    }
   ],
   "source": [
    "# Estimando primeiro modelo pra Perdas totais a 0,5 T\n",
    "formula1 = 'perdas1 ~ A + B + C + D + A:B + A:C + A:D + B:C + B:D + C:D'\n",
    "modelo1 = ols(formula1, df).fit()\n",
    "modelo1.summary()"
   ]
  },
  {
   "cell_type": "code",
   "execution_count": 20,
   "metadata": {},
   "outputs": [
    {
     "data": {
      "text/plain": [
       "Text(0.5, 1.0, 'Resíduos do modelo para perdas totais a 0,5T')"
      ]
     },
     "execution_count": 20,
     "metadata": {},
     "output_type": "execute_result"
    },
    {
     "data": {
      "image/png": "[encoded data removed]",
      "text/plain": [
       "<Figure size 432x288 with 1 Axes>"
      ]
     },
     "metadata": {
      "needs_background": "light"
     },
     "output_type": "display_data"
    }
   ],
   "source": [
    "# Gráfico dos resíduos do modelo\n",
    "fig1 = plt.figure(1)\n",
    "stats.probplot(modelo1.resid, plot=plt)\n",
    "plt.title('Resíduos do modelo para perdas totais a 0,5T')"
   ]
  },
  {
   "cell_type": "markdown",
   "metadata": {},
   "source": [
    "O próximo passo seria realizar a ANOVA, porém ela assume que os resíduos do modelo seguem uma distribuição normal. Para verificar essa hipótese pode ser feito um teste de normalidade, como o Anderson-Darling."
   ]
  },
  {
   "cell_type": "code",
   "execution_count": 21,
   "metadata": {},
   "outputs": [
    {
     "data": {
      "text/plain": [
       "'AD: 3.024372101412858, p valor: 1.0354510835303174e-07'"
      ]
     },
     "execution_count": 21,
     "metadata": {},
     "output_type": "execute_result"
    }
   ],
   "source": [
    "test_ad1 = sms.normal_ad(modelo1.resid)\n",
    "\"AD: {}, p valor: {}\".format(test_ad1[0],test_ad1[1])"
   ]
  },
  {
   "cell_type": "markdown",
   "metadata": {},
   "source": [
    "O p-valor indica a probabilidade em se cometer um erro ao rejeitar a hipótese nula. do teste de aderência à distribuição normal dessa variável foi menor que 5%"
   ]
  }
 ],
 "metadata": {
  "kernelspec": {
   "display_name": "Python 3",
   "language": "python",
   "name": "python3"
  },
  "language_info": {
   "codemirror_mode": {
    "name": "ipython",
    "version": 3
   },
   "file_extension": ".py",
   "mimetype": "text/x-python",
   "name": "python",
   "nbconvert_exporter": "python",
   "pygments_lexer": "ipython3",
   "version": "3.6.5"
  }
 },
 "nbformat": 4,
 "nbformat_minor": 2
}
