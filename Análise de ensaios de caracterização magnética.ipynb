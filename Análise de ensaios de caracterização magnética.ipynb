{
 "cells": [
  {
   "cell_type": "markdown",
   "metadata": {},
   "source": [
    "## Análise de ensaios de caracterização magnética de aços para fins elétricos\n",
    "\n",
    "Esse notebook descreve as análises realizadas a partir da aplicação da técnica de planejamento de experimentos (Design of Experiments - DOE) em ensaios de caracterização magnética. O objetivo foi analisar o efeito de quatro fatores nas medições de perdas totais magnéticas e permeabilidade magnética: direção de laminação, equipamento de teste, frequência do ensaio e classe do aço."
   ]
  },
  {
   "cell_type": "markdown",
   "metadata": {},
   "source": [
    "O primeiro passo para realizar as análises é ler os dados dos ensaios realizados."
   ]
  },
  {
   "cell_type": "code",
   "execution_count": 3,
   "metadata": {},
   "outputs": [],
   "source": [
    "import pandas as pd\n",
    "import numpy as np\n",
    "import seaborn as sns\n",
    "import matplotlib.pyplot as plt\n",
    "%matplotlib inline"
   ]
  },
  {
   "cell_type": "code",
   "execution_count": 4,
   "metadata": {},
   "outputs": [],
   "source": [
    "# Salva os dados em um data frame e exclui colunas desnecessárias\n",
    "df = pd.read_excel('Dados_TCC.xlsx', sheet_name='Página1')\n",
    "df = df.drop(['StdOrder','RunOrder','CenterPt','Blocks'],axis=1)"
   ]
  },
  {
   "cell_type": "markdown",
   "metadata": {},
   "source": [
    "Analisando o data frame, é possível ver os 4 fatores e as 6 variáveis resposta."
   ]
  },
  {
   "cell_type": "code",
   "execution_count": 5,
   "metadata": {},
   "outputs": [
    {
     "data": {
      "text/html": [
       "<div>\n",
       "<style scoped>\n",
       "    .dataframe tbody tr th:only-of-type {\n",
       "        vertical-align: middle;\n",
       "    }\n",
       "\n",
       "    .dataframe tbody tr th {\n",
       "        vertical-align: top;\n",
       "    }\n",
       "\n",
       "    .dataframe thead th {\n",
       "        text-align: right;\n",
       "    }\n",
       "</style>\n",
       "<table border=\"1\" class=\"dataframe\">\n",
       "  <thead>\n",
       "    <tr style=\"text-align: right;\">\n",
       "      <th></th>\n",
       "      <th>Direção de laminação</th>\n",
       "      <th>Equipamento de teste</th>\n",
       "      <th>Frequência</th>\n",
       "      <th>Classe do aço</th>\n",
       "      <th>Perdas Totais 0,5T</th>\n",
       "      <th>Perdas Totais 1,0T</th>\n",
       "      <th>Perdas Totais 1,5T</th>\n",
       "      <th>Permeabilidade 0,5T</th>\n",
       "      <th>Permeabilidade 1,0T</th>\n",
       "      <th>Permeabilidade 1,5T</th>\n",
       "    </tr>\n",
       "  </thead>\n",
       "  <tbody>\n",
       "    <tr>\n",
       "      <th>0</th>\n",
       "      <td>Transversal</td>\n",
       "      <td>Epstein</td>\n",
       "      <td>50Hz</td>\n",
       "      <td>U450</td>\n",
       "      <td>0.764216</td>\n",
       "      <td>2.630147</td>\n",
       "      <td>6.465046</td>\n",
       "      <td>4771.051450</td>\n",
       "      <td>5526.146124</td>\n",
       "      <td>630.634533</td>\n",
       "    </tr>\n",
       "    <tr>\n",
       "      <th>1</th>\n",
       "      <td>Transversal</td>\n",
       "      <td>Epstein</td>\n",
       "      <td>10Hz</td>\n",
       "      <td>E170</td>\n",
       "      <td>0.083646</td>\n",
       "      <td>0.232365</td>\n",
       "      <td>0.469293</td>\n",
       "      <td>3951.397922</td>\n",
       "      <td>4088.188611</td>\n",
       "      <td>1179.579641</td>\n",
       "    </tr>\n",
       "    <tr>\n",
       "      <th>2</th>\n",
       "      <td>Transversal</td>\n",
       "      <td>SST</td>\n",
       "      <td>50Hz</td>\n",
       "      <td>E170</td>\n",
       "      <td>0.527970</td>\n",
       "      <td>1.590981</td>\n",
       "      <td>3.379449</td>\n",
       "      <td>3775.970047</td>\n",
       "      <td>4075.751922</td>\n",
       "      <td>1090.606879</td>\n",
       "    </tr>\n",
       "    <tr>\n",
       "      <th>3</th>\n",
       "      <td>Longitudinal</td>\n",
       "      <td>SST</td>\n",
       "      <td>50Hz</td>\n",
       "      <td>E170</td>\n",
       "      <td>0.346557</td>\n",
       "      <td>1.220861</td>\n",
       "      <td>2.719481</td>\n",
       "      <td>10313.357518</td>\n",
       "      <td>12091.234842</td>\n",
       "      <td>2454.666197</td>\n",
       "    </tr>\n",
       "    <tr>\n",
       "      <th>4</th>\n",
       "      <td>Longitudinal</td>\n",
       "      <td>SST</td>\n",
       "      <td>10Hz</td>\n",
       "      <td>U450</td>\n",
       "      <td>0.103082</td>\n",
       "      <td>0.322354</td>\n",
       "      <td>0.721716</td>\n",
       "      <td>6220.161759</td>\n",
       "      <td>5841.946697</td>\n",
       "      <td>1821.252977</td>\n",
       "    </tr>\n",
       "  </tbody>\n",
       "</table>\n",
       "</div>"
      ],
      "text/plain": [
       "  Direção de laminação Equipamento de teste Frequência Classe do aço  \\\n",
       "0          Transversal              Epstein       50Hz          U450   \n",
       "1          Transversal              Epstein       10Hz          E170   \n",
       "2          Transversal                  SST       50Hz          E170   \n",
       "3         Longitudinal                  SST       50Hz          E170   \n",
       "4         Longitudinal                  SST       10Hz          U450   \n",
       "\n",
       "   Perdas Totais 0,5T  Perdas Totais 1,0T  Perdas Totais 1,5T  \\\n",
       "0            0.764216            2.630147            6.465046   \n",
       "1            0.083646            0.232365            0.469293   \n",
       "2            0.527970            1.590981            3.379449   \n",
       "3            0.346557            1.220861            2.719481   \n",
       "4            0.103082            0.322354            0.721716   \n",
       "\n",
       "   Permeabilidade 0,5T  Permeabilidade 1,0T  Permeabilidade 1,5T  \n",
       "0          4771.051450          5526.146124           630.634533  \n",
       "1          3951.397922          4088.188611          1179.579641  \n",
       "2          3775.970047          4075.751922          1090.606879  \n",
       "3         10313.357518         12091.234842          2454.666197  \n",
       "4          6220.161759          5841.946697          1821.252977  "
      ]
     },
     "execution_count": 5,
     "metadata": {},
     "output_type": "execute_result"
    }
   ],
   "source": [
    "df.head()"
   ]
  },
  {
   "cell_type": "code",
   "execution_count": 6,
   "metadata": {},
   "outputs": [
    {
     "name": "stdout",
     "output_type": "stream",
     "text": [
      "<class 'pandas.core.frame.DataFrame'>\n",
      "RangeIndex: 48 entries, 0 to 47\n",
      "Data columns (total 10 columns):\n",
      "Direção de laminação    48 non-null object\n",
      "Equipamento de teste    48 non-null object\n",
      "Frequência              48 non-null object\n",
      "Classe do aço           48 non-null object\n",
      "Perdas Totais 0,5T      48 non-null float64\n",
      "Perdas Totais 1,0T      48 non-null float64\n",
      "Perdas Totais 1,5T      48 non-null float64\n",
      "Permeabilidade 0,5T     48 non-null float64\n",
      "Permeabilidade 1,0T     48 non-null float64\n",
      "Permeabilidade 1,5T     48 non-null float64\n",
      "dtypes: float64(6), object(4)\n",
      "memory usage: 3.8+ KB\n"
     ]
    }
   ],
   "source": [
    "df.info()"
   ]
  },
  {
   "cell_type": "markdown",
   "metadata": {},
   "source": [
    "Os fatores são variáveis categóricas que assumem dois valores possíveis, porém ainda falta convertê-los para esse tipo."
   ]
  },
  {
   "cell_type": "code",
   "execution_count": 7,
   "metadata": {},
   "outputs": [],
   "source": [
    "df['Direção de laminação'] = df['Direção de laminação'].astype('category')\n",
    "df['Equipamento de teste'] = df['Equipamento de teste'].astype('category')\n",
    "df['Frequência'] = df['Frequência'].astype('category')\n",
    "df['Classe do aço'] = df['Classe do aço'].astype('category')"
   ]
  },
  {
   "cell_type": "code",
   "execution_count": 8,
   "metadata": {},
   "outputs": [
    {
     "name": "stdout",
     "output_type": "stream",
     "text": [
      "<class 'pandas.core.frame.DataFrame'>\n",
      "RangeIndex: 48 entries, 0 to 47\n",
      "Data columns (total 10 columns):\n",
      "Direção de laminação    48 non-null category\n",
      "Equipamento de teste    48 non-null category\n",
      "Frequência              48 non-null category\n",
      "Classe do aço           48 non-null category\n",
      "Perdas Totais 0,5T      48 non-null float64\n",
      "Perdas Totais 1,0T      48 non-null float64\n",
      "Perdas Totais 1,5T      48 non-null float64\n",
      "Permeabilidade 0,5T     48 non-null float64\n",
      "Permeabilidade 1,0T     48 non-null float64\n",
      "Permeabilidade 1,5T     48 non-null float64\n",
      "dtypes: category(4), float64(6)\n",
      "memory usage: 2.9 KB\n"
     ]
    }
   ],
   "source": [
    "df.info()"
   ]
  },
  {
   "cell_type": "markdown",
   "metadata": {},
   "source": [
    "Para facilitar a análise, pode-se salvar os fatores e variáveis resposta como variáveis."
   ]
  },
  {
   "cell_type": "code",
   "execution_count": 9,
   "metadata": {},
   "outputs": [],
   "source": [
    "A = df['Direção de laminação']\n",
    "B = df['Equipamento de teste']\n",
    "C = df['Frequência']\n",
    "D = df['Classe do aço']\n",
    "\n",
    "perdas1 = df['Perdas Totais 0,5T']\n",
    "perdas2 = df['Perdas Totais 1,0T']\n",
    "perdas3 = df['Perdas Totais 1,5T']\n",
    "permeabilidade1 = df['Permeabilidade 0,5T']\n",
    "permeabilidade2 = df['Permeabilidade 1,0T']\n",
    "permeabilidade3 = df['Permeabilidade 1,5T']"
   ]
  },
  {
   "cell_type": "markdown",
   "metadata": {},
   "source": [
    "Os modelos serão estimados utilizando **statsmodel**, que possui diferentes modelos estatísticos. Nessas análises, será estimado um modelo por regressão linear e realizada a análise de variância (ANOVA) para identificar o efeito dos diferentes fatores nas variáveis resposta."
   ]
  },
  {
   "cell_type": "code",
   "execution_count": 10,
   "metadata": {},
   "outputs": [],
   "source": [
    "import statsmodels.api as sm\n",
    "from statsmodels.formula.api import ols\n",
    "import statsmodels.stats.api as sms"
   ]
  },
  {
   "cell_type": "code",
   "execution_count": 11,
   "metadata": {},
   "outputs": [
    {
     "data": {
      "text/html": [
       "<table class=\"simpletable\">\n",
       "<caption>OLS Regression Results</caption>\n",
       "<tr>\n",
       "  <th>Dep. Variable:</th>         <td>perdas1</td>     <th>  R-squared:         </th> <td>   0.995</td>\n",
       "</tr>\n",
       "<tr>\n",
       "  <th>Model:</th>                   <td>OLS</td>       <th>  Adj. R-squared:    </th> <td>   0.994</td>\n",
       "</tr>\n",
       "<tr>\n",
       "  <th>Method:</th>             <td>Least Squares</td>  <th>  F-statistic:       </th> <td>   815.3</td>\n",
       "</tr>\n",
       "<tr>\n",
       "  <th>Date:</th>             <td>Mon, 12 Aug 2019</td> <th>  Prob (F-statistic):</th> <td>3.27e-40</td>\n",
       "</tr>\n",
       "<tr>\n",
       "  <th>Time:</th>                 <td>22:12:25</td>     <th>  Log-Likelihood:    </th> <td>  120.58</td>\n",
       "</tr>\n",
       "<tr>\n",
       "  <th>No. Observations:</th>      <td>    48</td>      <th>  AIC:               </th> <td>  -219.2</td>\n",
       "</tr>\n",
       "<tr>\n",
       "  <th>Df Residuals:</th>          <td>    37</td>      <th>  BIC:               </th> <td>  -198.6</td>\n",
       "</tr>\n",
       "<tr>\n",
       "  <th>Df Model:</th>              <td>    10</td>      <th>                     </th>     <td> </td>   \n",
       "</tr>\n",
       "<tr>\n",
       "  <th>Covariance Type:</th>      <td>nonrobust</td>    <th>                     </th>     <td> </td>   \n",
       "</tr>\n",
       "</table>\n",
       "<table class=\"simpletable\">\n",
       "<tr>\n",
       "               <td></td>                 <th>coef</th>     <th>std err</th>      <th>t</th>      <th>P>|t|</th>  <th>[0.025</th>    <th>0.975]</th>  \n",
       "</tr>\n",
       "<tr>\n",
       "  <th>Intercept</th>                  <td>    0.0304</td> <td>    0.011</td> <td>    2.845</td> <td> 0.007</td> <td>    0.009</td> <td>    0.052</td>\n",
       "</tr>\n",
       "<tr>\n",
       "  <th>A[T.Transversal]</th>           <td>    0.0679</td> <td>    0.013</td> <td>    5.264</td> <td> 0.000</td> <td>    0.042</td> <td>    0.094</td>\n",
       "</tr>\n",
       "<tr>\n",
       "  <th>B[T.SST]</th>                   <td>   -0.0013</td> <td>    0.013</td> <td>   -0.104</td> <td> 0.917</td> <td>   -0.027</td> <td>    0.025</td>\n",
       "</tr>\n",
       "<tr>\n",
       "  <th>C[T.50Hz]</th>                  <td>    0.3567</td> <td>    0.013</td> <td>   27.643</td> <td> 0.000</td> <td>    0.331</td> <td>    0.383</td>\n",
       "</tr>\n",
       "<tr>\n",
       "  <th>D[T.U450]</th>                  <td>    0.0923</td> <td>    0.013</td> <td>    7.152</td> <td> 0.000</td> <td>    0.066</td> <td>    0.118</td>\n",
       "</tr>\n",
       "<tr>\n",
       "  <th>A[T.Transversal]:B[T.SST]</th>  <td>    0.0086</td> <td>    0.013</td> <td>    0.665</td> <td> 0.510</td> <td>   -0.018</td> <td>    0.035</td>\n",
       "</tr>\n",
       "<tr>\n",
       "  <th>A[T.Transversal]:C[T.50Hz]</th> <td>    0.0597</td> <td>    0.013</td> <td>    4.625</td> <td> 0.000</td> <td>    0.034</td> <td>    0.086</td>\n",
       "</tr>\n",
       "<tr>\n",
       "  <th>A[T.Transversal]:D[T.U450]</th> <td>   -0.1077</td> <td>    0.013</td> <td>   -8.344</td> <td> 0.000</td> <td>   -0.134</td> <td>   -0.082</td>\n",
       "</tr>\n",
       "<tr>\n",
       "  <th>B[T.SST]:C[T.50Hz]</th>         <td>   -0.0015</td> <td>    0.013</td> <td>   -0.113</td> <td> 0.911</td> <td>   -0.028</td> <td>    0.025</td>\n",
       "</tr>\n",
       "<tr>\n",
       "  <th>B[T.SST]:D[T.U450]</th>         <td>   -0.0047</td> <td>    0.013</td> <td>   -0.362</td> <td> 0.720</td> <td>   -0.031</td> <td>    0.021</td>\n",
       "</tr>\n",
       "<tr>\n",
       "  <th>C[T.50Hz]:D[T.U450]</th>        <td>    0.2872</td> <td>    0.013</td> <td>   22.260</td> <td> 0.000</td> <td>    0.261</td> <td>    0.313</td>\n",
       "</tr>\n",
       "</table>\n",
       "<table class=\"simpletable\">\n",
       "<tr>\n",
       "  <th>Omnibus:</th>       <td>57.000</td> <th>  Durbin-Watson:     </th> <td>   2.157</td>\n",
       "</tr>\n",
       "<tr>\n",
       "  <th>Prob(Omnibus):</th> <td> 0.000</td> <th>  Jarque-Bera (JB):  </th> <td>   5.032</td>\n",
       "</tr>\n",
       "<tr>\n",
       "  <th>Skew:</th>          <td>-0.093</td> <th>  Prob(JB):          </th> <td>  0.0808</td>\n",
       "</tr>\n",
       "<tr>\n",
       "  <th>Kurtosis:</th>      <td> 1.425</td> <th>  Cond. No.          </th> <td>    11.9</td>\n",
       "</tr>\n",
       "</table><br/><br/>Warnings:<br/>[1] Standard Errors assume that the covariance matrix of the errors is correctly specified."
      ],
      "text/plain": [
       "<class 'statsmodels.iolib.summary.Summary'>\n",
       "\"\"\"\n",
       "                            OLS Regression Results                            \n",
       "==============================================================================\n",
       "Dep. Variable:                perdas1   R-squared:                       0.995\n",
       "Model:                            OLS   Adj. R-squared:                  0.994\n",
       "Method:                 Least Squares   F-statistic:                     815.3\n",
       "Date:                Mon, 12 Aug 2019   Prob (F-statistic):           3.27e-40\n",
       "Time:                        22:12:25   Log-Likelihood:                 120.58\n",
       "No. Observations:                  48   AIC:                            -219.2\n",
       "Df Residuals:                      37   BIC:                            -198.6\n",
       "Df Model:                          10                                         \n",
       "Covariance Type:            nonrobust                                         \n",
       "==============================================================================================\n",
       "                                 coef    std err          t      P>|t|      [0.025      0.975]\n",
       "----------------------------------------------------------------------------------------------\n",
       "Intercept                      0.0304      0.011      2.845      0.007       0.009       0.052\n",
       "A[T.Transversal]               0.0679      0.013      5.264      0.000       0.042       0.094\n",
       "B[T.SST]                      -0.0013      0.013     -0.104      0.917      -0.027       0.025\n",
       "C[T.50Hz]                      0.3567      0.013     27.643      0.000       0.331       0.383\n",
       "D[T.U450]                      0.0923      0.013      7.152      0.000       0.066       0.118\n",
       "A[T.Transversal]:B[T.SST]      0.0086      0.013      0.665      0.510      -0.018       0.035\n",
       "A[T.Transversal]:C[T.50Hz]     0.0597      0.013      4.625      0.000       0.034       0.086\n",
       "A[T.Transversal]:D[T.U450]    -0.1077      0.013     -8.344      0.000      -0.134      -0.082\n",
       "B[T.SST]:C[T.50Hz]            -0.0015      0.013     -0.113      0.911      -0.028       0.025\n",
       "B[T.SST]:D[T.U450]            -0.0047      0.013     -0.362      0.720      -0.031       0.021\n",
       "C[T.50Hz]:D[T.U450]            0.2872      0.013     22.260      0.000       0.261       0.313\n",
       "==============================================================================\n",
       "Omnibus:                       57.000   Durbin-Watson:                   2.157\n",
       "Prob(Omnibus):                  0.000   Jarque-Bera (JB):                5.032\n",
       "Skew:                          -0.093   Prob(JB):                       0.0808\n",
       "Kurtosis:                       1.425   Cond. No.                         11.9\n",
       "==============================================================================\n",
       "\n",
       "Warnings:\n",
       "[1] Standard Errors assume that the covariance matrix of the errors is correctly specified.\n",
       "\"\"\""
      ]
     },
     "execution_count": 11,
     "metadata": {},
     "output_type": "execute_result"
    }
   ],
   "source": [
    "# Estimando primeiro modelo pra Perdas totais a 0,5 T\n",
    "formula1 = 'perdas1 ~ A + B + C + D + A:B + A:C + A:D + B:C + B:D + C:D'\n",
    "modelo1 = ols(formula1, df).fit()\n",
    "modelo1.summary()"
   ]
  },
  {
   "cell_type": "code",
   "execution_count": 12,
   "metadata": {},
   "outputs": [
    {
     "data": {
      "text/plain": [
       "Text(0.5, 1.0, 'Resíduos do modelo para perdas totais a 0,5T')"
      ]
     },
     "execution_count": 12,
     "metadata": {},
     "output_type": "execute_result"
    },
    {
     "data": {
      "image/png": "[encoded data removed]",
      "text/plain": [
       "<Figure size 432x288 with 1 Axes>"
      ]
     },
     "metadata": {
      "needs_background": "light"
     },
     "output_type": "display_data"
    }
   ],
   "source": [
    "# Gráfico dos resíduos do modelo\n",
    "fig1 = plt.figure(1)\n",
    "stats.probplot(modelo1.resid, plot=plt)\n",
    "plt.title('Resíduos do modelo para perdas totais a 0,5T')"
   ]
  },
  {
   "cell_type": "markdown",
   "metadata": {},
   "source": [
    "O próximo passo seria realizar a ANOVA, porém ela assume que os resíduos do modelo seguem uma distribuição normal. Para verificar essa hipótese pode ser feito um teste de normalidade, como o Anderson-Darling."
   ]
  },
  {
   "cell_type": "code",
   "execution_count": 13,
   "metadata": {},
   "outputs": [
    {
     "name": "stderr",
     "output_type": "stream",
     "text": [
      "C:\\Users\\marjo\\Anaconda3\\lib\\site-packages\\statsmodels\\stats\\_adnorm.py:66: FutureWarning: Using a non-tuple sequence for multidimensional indexing is deprecated; use `arr[tuple(seq)]` instead of `arr[seq]`. In the future this will be interpreted as an array index, `arr[np.array(seq)]`, which will result either in an error or a different result.\n",
      "  S = np.sum((2*i[sl1]-1.0)/N*(np.log(z)+np.log(1-z[sl2])), axis=axis)\n"
     ]
    },
    {
     "data": {
      "text/plain": [
       "'AD: 3.0243721014129505, p valor: 1.0354510835297693e-07'"
      ]
     },
     "execution_count": 13,
     "metadata": {},
     "output_type": "execute_result"
    }
   ],
   "source": [
    "test_ad1 = sms.normal_ad(modelo1.resid)\n",
    "\"AD: {}, p valor: {}\".format(test_ad1[0],test_ad1[1])"
   ]
  },
  {
   "cell_type": "markdown",
   "metadata": {},
   "source": [
    "O p-valor indica a probabilidade em se cometer um erro ao rejeitar a hipótese nula. Neste caso, a hipótese nula é a de que os resíduos apresentam uma distribuição normal. Como o p-valor foi menor que 5%, concluí-se que os resíduos não possuem aderência à distribuição normal. A partir disso, pode-se transformar os dados para uma melhor aderência dos resíduos à normalidade e aplicação da ANOVA."
   ]
  },
  {
   "cell_type": "markdown",
   "metadata": {},
   "source": [
    "É aplicada uma transformação Box-Cox nessa variável usando SciPy e estimado um novo modelo com a variável transformada."
   ]
  },
  {
   "cell_type": "code",
   "execution_count": 16,
   "metadata": {},
   "outputs": [
    {
     "data": {
      "text/html": [
       "<table class=\"simpletable\">\n",
       "<caption>OLS Regression Results</caption>\n",
       "<tr>\n",
       "  <th>Dep. Variable:</th>       <td>perdas1_bc</td>    <th>  R-squared:         </th> <td>   0.999</td>\n",
       "</tr>\n",
       "<tr>\n",
       "  <th>Model:</th>                   <td>OLS</td>       <th>  Adj. R-squared:    </th> <td>   0.999</td>\n",
       "</tr>\n",
       "<tr>\n",
       "  <th>Method:</th>             <td>Least Squares</td>  <th>  F-statistic:       </th> <td>   5049.</td>\n",
       "</tr>\n",
       "<tr>\n",
       "  <th>Date:</th>             <td>Mon, 12 Aug 2019</td> <th>  Prob (F-statistic):</th> <td>7.99e-55</td>\n",
       "</tr>\n",
       "<tr>\n",
       "  <th>Time:</th>                 <td>22:13:05</td>     <th>  Log-Likelihood:    </th> <td>  103.24</td>\n",
       "</tr>\n",
       "<tr>\n",
       "  <th>No. Observations:</th>      <td>    48</td>      <th>  AIC:               </th> <td>  -184.5</td>\n",
       "</tr>\n",
       "<tr>\n",
       "  <th>Df Residuals:</th>          <td>    37</td>      <th>  BIC:               </th> <td>  -163.9</td>\n",
       "</tr>\n",
       "<tr>\n",
       "  <th>Df Model:</th>              <td>    10</td>      <th>                     </th>     <td> </td>   \n",
       "</tr>\n",
       "<tr>\n",
       "  <th>Covariance Type:</th>      <td>nonrobust</td>    <th>                     </th>     <td> </td>   \n",
       "</tr>\n",
       "</table>\n",
       "<table class=\"simpletable\">\n",
       "<tr>\n",
       "               <td></td>                 <th>coef</th>     <th>std err</th>      <th>t</th>      <th>P>|t|</th>  <th>[0.025</th>    <th>0.975]</th>  \n",
       "</tr>\n",
       "<tr>\n",
       "  <th>Intercept</th>                  <td>   -3.0215</td> <td>    0.015</td> <td> -196.766</td> <td> 0.000</td> <td>   -3.053</td> <td>   -2.990</td>\n",
       "</tr>\n",
       "<tr>\n",
       "  <th>A[T.Transversal]</th>           <td>    0.5121</td> <td>    0.019</td> <td>   27.653</td> <td> 0.000</td> <td>    0.475</td> <td>    0.550</td>\n",
       "</tr>\n",
       "<tr>\n",
       "  <th>B[T.SST]</th>                   <td>    0.0067</td> <td>    0.019</td> <td>    0.359</td> <td> 0.721</td> <td>   -0.031</td> <td>    0.044</td>\n",
       "</tr>\n",
       "<tr>\n",
       "  <th>C[T.50Hz]</th>                  <td>    2.0018</td> <td>    0.019</td> <td>  108.089</td> <td> 0.000</td> <td>    1.964</td> <td>    2.039</td>\n",
       "</tr>\n",
       "<tr>\n",
       "  <th>D[T.U450]</th>                  <td>    0.7160</td> <td>    0.019</td> <td>   38.663</td> <td> 0.000</td> <td>    0.679</td> <td>    0.754</td>\n",
       "</tr>\n",
       "<tr>\n",
       "  <th>A[T.Transversal]:B[T.SST]</th>  <td>    0.0139</td> <td>    0.019</td> <td>    0.751</td> <td> 0.457</td> <td>   -0.024</td> <td>    0.051</td>\n",
       "</tr>\n",
       "<tr>\n",
       "  <th>A[T.Transversal]:C[T.50Hz]</th> <td>   -0.1030</td> <td>    0.019</td> <td>   -5.561</td> <td> 0.000</td> <td>   -0.141</td> <td>   -0.065</td>\n",
       "</tr>\n",
       "<tr>\n",
       "  <th>A[T.Transversal]:D[T.U450]</th> <td>   -0.4705</td> <td>    0.019</td> <td>  -25.405</td> <td> 0.000</td> <td>   -0.508</td> <td>   -0.433</td>\n",
       "</tr>\n",
       "<tr>\n",
       "  <th>B[T.SST]:C[T.50Hz]</th>         <td>   -0.0086</td> <td>    0.019</td> <td>   -0.466</td> <td> 0.644</td> <td>   -0.046</td> <td>    0.029</td>\n",
       "</tr>\n",
       "<tr>\n",
       "  <th>B[T.SST]:D[T.U450]</th>         <td>   -0.0103</td> <td>    0.019</td> <td>   -0.555</td> <td> 0.582</td> <td>   -0.048</td> <td>    0.027</td>\n",
       "</tr>\n",
       "<tr>\n",
       "  <th>C[T.50Hz]:D[T.U450]</th>        <td>    0.0821</td> <td>    0.019</td> <td>    4.431</td> <td> 0.000</td> <td>    0.045</td> <td>    0.120</td>\n",
       "</tr>\n",
       "</table>\n",
       "<table class=\"simpletable\">\n",
       "<tr>\n",
       "  <th>Omnibus:</th>       <td> 0.111</td> <th>  Durbin-Watson:     </th> <td>   2.306</td>\n",
       "</tr>\n",
       "<tr>\n",
       "  <th>Prob(Omnibus):</th> <td> 0.946</td> <th>  Jarque-Bera (JB):  </th> <td>   0.268</td>\n",
       "</tr>\n",
       "<tr>\n",
       "  <th>Skew:</th>          <td>-0.095</td> <th>  Prob(JB):          </th> <td>   0.874</td>\n",
       "</tr>\n",
       "<tr>\n",
       "  <th>Kurtosis:</th>      <td> 2.686</td> <th>  Cond. No.          </th> <td>    11.9</td>\n",
       "</tr>\n",
       "</table><br/><br/>Warnings:<br/>[1] Standard Errors assume that the covariance matrix of the errors is correctly specified."
      ],
      "text/plain": [
       "<class 'statsmodels.iolib.summary.Summary'>\n",
       "\"\"\"\n",
       "                            OLS Regression Results                            \n",
       "==============================================================================\n",
       "Dep. Variable:             perdas1_bc   R-squared:                       0.999\n",
       "Model:                            OLS   Adj. R-squared:                  0.999\n",
       "Method:                 Least Squares   F-statistic:                     5049.\n",
       "Date:                Mon, 12 Aug 2019   Prob (F-statistic):           7.99e-55\n",
       "Time:                        22:13:05   Log-Likelihood:                 103.24\n",
       "No. Observations:                  48   AIC:                            -184.5\n",
       "Df Residuals:                      37   BIC:                            -163.9\n",
       "Df Model:                          10                                         \n",
       "Covariance Type:            nonrobust                                         \n",
       "==============================================================================================\n",
       "                                 coef    std err          t      P>|t|      [0.025      0.975]\n",
       "----------------------------------------------------------------------------------------------\n",
       "Intercept                     -3.0215      0.015   -196.766      0.000      -3.053      -2.990\n",
       "A[T.Transversal]               0.5121      0.019     27.653      0.000       0.475       0.550\n",
       "B[T.SST]                       0.0067      0.019      0.359      0.721      -0.031       0.044\n",
       "C[T.50Hz]                      2.0018      0.019    108.089      0.000       1.964       2.039\n",
       "D[T.U450]                      0.7160      0.019     38.663      0.000       0.679       0.754\n",
       "A[T.Transversal]:B[T.SST]      0.0139      0.019      0.751      0.457      -0.024       0.051\n",
       "A[T.Transversal]:C[T.50Hz]    -0.1030      0.019     -5.561      0.000      -0.141      -0.065\n",
       "A[T.Transversal]:D[T.U450]    -0.4705      0.019    -25.405      0.000      -0.508      -0.433\n",
       "B[T.SST]:C[T.50Hz]            -0.0086      0.019     -0.466      0.644      -0.046       0.029\n",
       "B[T.SST]:D[T.U450]            -0.0103      0.019     -0.555      0.582      -0.048       0.027\n",
       "C[T.50Hz]:D[T.U450]            0.0821      0.019      4.431      0.000       0.045       0.120\n",
       "==============================================================================\n",
       "Omnibus:                        0.111   Durbin-Watson:                   2.306\n",
       "Prob(Omnibus):                  0.946   Jarque-Bera (JB):                0.268\n",
       "Skew:                          -0.095   Prob(JB):                        0.874\n",
       "Kurtosis:                       2.686   Cond. No.                         11.9\n",
       "==============================================================================\n",
       "\n",
       "Warnings:\n",
       "[1] Standard Errors assume that the covariance matrix of the errors is correctly specified.\n",
       "\"\"\""
      ]
     },
     "execution_count": 16,
     "metadata": {},
     "output_type": "execute_result"
    }
   ],
   "source": [
    "import scipy.stats as stats\n",
    "boxcox1 = stats.boxcox(perdas1)\n",
    "lambda1 = round(boxcox1[1])\n",
    "perdas1_bc = stats.boxcox(perdas1,lmbda=lambda1)\n",
    "formula1_bc = 'perdas1_bc ~ A + B + C + D + A:B + A:C + A:D + B:C + B:D + C:D'\n",
    "modelo1_bc = ols(formula1_bc, df).fit()\n",
    "modelo1_bc.summary()"
   ]
  },
  {
   "cell_type": "code",
   "execution_count": 17,
   "metadata": {},
   "outputs": [
    {
     "data": {
      "text/plain": [
       "'AD: 0.7056920256859343, p valor: 0.061273541712841065'"
      ]
     },
     "execution_count": 17,
     "metadata": {},
     "output_type": "execute_result"
    }
   ],
   "source": [
    "res1_bc = modelo1_bc.resid\n",
    "test1_bc = sms.normal_ad(res1_bc)\n",
    "\"AD: {}, p valor: {}\".format(test1_bc[0],test1_bc[1])"
   ]
  },
  {
   "cell_type": "code",
   "execution_count": 18,
   "metadata": {},
   "outputs": [
    {
     "data": {
      "text/plain": [
       "Text(0.5, 1.0, 'Resíduos do modelo da variável transformada para perdas totais a 0,5T')"
      ]
     },
     "execution_count": 18,
     "metadata": {},
     "output_type": "execute_result"
    },
    {
     "data": {
      "image/png": "[encoded data removed]",
      "text/plain": [
       "<Figure size 432x288 with 1 Axes>"
      ]
     },
     "metadata": {
      "needs_background": "light"
     },
     "output_type": "display_data"
    }
   ],
   "source": [
    "fig2 = plt.figure(2)\n",
    "stats.probplot(modelo1_bc.resid, plot=plt)\n",
    "plt.title('Resíduos do modelo da variável transformada para perdas totais a 0,5T')"
   ]
  },
  {
   "cell_type": "markdown",
   "metadata": {},
   "source": [
    "Analisando os resíduos, é possível ver que após a transformação da variável, apresentam aderência à distribuição normal."
   ]
  },
  {
   "cell_type": "markdown",
   "metadata": {},
   "source": [
    "Aplicando a ANOVA:"
   ]
  },
  {
   "cell_type": "code",
   "execution_count": 19,
   "metadata": {},
   "outputs": [
    {
     "data": {
      "text/html": [
       "<div>\n",
       "<style scoped>\n",
       "    .dataframe tbody tr th:only-of-type {\n",
       "        vertical-align: middle;\n",
       "    }\n",
       "\n",
       "    .dataframe tbody tr th {\n",
       "        vertical-align: top;\n",
       "    }\n",
       "\n",
       "    .dataframe thead th {\n",
       "        text-align: right;\n",
       "    }\n",
       "</style>\n",
       "<table border=\"1\" class=\"dataframe\">\n",
       "  <thead>\n",
       "    <tr style=\"text-align: right;\">\n",
       "      <th></th>\n",
       "      <th>df</th>\n",
       "      <th>sum_sq</th>\n",
       "      <th>mean_sq</th>\n",
       "      <th>F</th>\n",
       "      <th>PR(&gt;F)</th>\n",
       "    </tr>\n",
       "  </thead>\n",
       "  <tbody>\n",
       "    <tr>\n",
       "      <th>A</th>\n",
       "      <td>1.0</td>\n",
       "      <td>0.647785</td>\n",
       "      <td>0.647785</td>\n",
       "      <td>629.540777</td>\n",
       "      <td>7.899360e-25</td>\n",
       "    </tr>\n",
       "    <tr>\n",
       "      <th>B</th>\n",
       "      <td>1.0</td>\n",
       "      <td>0.000207</td>\n",
       "      <td>0.000207</td>\n",
       "      <td>0.201652</td>\n",
       "      <td>6.560098e-01</td>\n",
       "    </tr>\n",
       "    <tr>\n",
       "      <th>C</th>\n",
       "      <td>1.0</td>\n",
       "      <td>47.379584</td>\n",
       "      <td>47.379584</td>\n",
       "      <td>46045.208200</td>\n",
       "      <td>7.102918e-59</td>\n",
       "    </tr>\n",
       "    <tr>\n",
       "      <th>D</th>\n",
       "      <td>1.0</td>\n",
       "      <td>3.203565</td>\n",
       "      <td>3.203565</td>\n",
       "      <td>3113.341147</td>\n",
       "      <td>2.567172e-37</td>\n",
       "    </tr>\n",
       "    <tr>\n",
       "      <th>A:B</th>\n",
       "      <td>1.0</td>\n",
       "      <td>0.000581</td>\n",
       "      <td>0.000581</td>\n",
       "      <td>0.564223</td>\n",
       "      <td>4.573148e-01</td>\n",
       "    </tr>\n",
       "    <tr>\n",
       "      <th>A:C</th>\n",
       "      <td>1.0</td>\n",
       "      <td>0.031824</td>\n",
       "      <td>0.031824</td>\n",
       "      <td>30.927688</td>\n",
       "      <td>2.466888e-06</td>\n",
       "    </tr>\n",
       "    <tr>\n",
       "      <th>A:D</th>\n",
       "      <td>1.0</td>\n",
       "      <td>0.664121</td>\n",
       "      <td>0.664121</td>\n",
       "      <td>645.417382</td>\n",
       "      <td>5.107155e-25</td>\n",
       "    </tr>\n",
       "    <tr>\n",
       "      <th>B:C</th>\n",
       "      <td>1.0</td>\n",
       "      <td>0.000223</td>\n",
       "      <td>0.000223</td>\n",
       "      <td>0.217145</td>\n",
       "      <td>6.439555e-01</td>\n",
       "    </tr>\n",
       "    <tr>\n",
       "      <th>B:D</th>\n",
       "      <td>1.0</td>\n",
       "      <td>0.000317</td>\n",
       "      <td>0.000317</td>\n",
       "      <td>0.307920</td>\n",
       "      <td>5.822989e-01</td>\n",
       "    </tr>\n",
       "    <tr>\n",
       "      <th>C:D</th>\n",
       "      <td>1.0</td>\n",
       "      <td>0.020200</td>\n",
       "      <td>0.020200</td>\n",
       "      <td>19.631034</td>\n",
       "      <td>8.057216e-05</td>\n",
       "    </tr>\n",
       "    <tr>\n",
       "      <th>Residual</th>\n",
       "      <td>37.0</td>\n",
       "      <td>0.038072</td>\n",
       "      <td>0.001029</td>\n",
       "      <td>NaN</td>\n",
       "      <td>NaN</td>\n",
       "    </tr>\n",
       "  </tbody>\n",
       "</table>\n",
       "</div>"
      ],
      "text/plain": [
       "            df     sum_sq    mean_sq             F        PR(>F)\n",
       "A          1.0   0.647785   0.647785    629.540777  7.899360e-25\n",
       "B          1.0   0.000207   0.000207      0.201652  6.560098e-01\n",
       "C          1.0  47.379584  47.379584  46045.208200  7.102918e-59\n",
       "D          1.0   3.203565   3.203565   3113.341147  2.567172e-37\n",
       "A:B        1.0   0.000581   0.000581      0.564223  4.573148e-01\n",
       "A:C        1.0   0.031824   0.031824     30.927688  2.466888e-06\n",
       "A:D        1.0   0.664121   0.664121    645.417382  5.107155e-25\n",
       "B:C        1.0   0.000223   0.000223      0.217145  6.439555e-01\n",
       "B:D        1.0   0.000317   0.000317      0.307920  5.822989e-01\n",
       "C:D        1.0   0.020200   0.020200     19.631034  8.057216e-05\n",
       "Residual  37.0   0.038072   0.001029           NaN           NaN"
      ]
     },
     "execution_count": 19,
     "metadata": {},
     "output_type": "execute_result"
    }
   ],
   "source": [
    "anova = sm.stats.anova_lm(modelo1_bc)\n",
    "pvalues = anova['PR(>F)']\n",
    "anova"
   ]
  },
  {
   "cell_type": "markdown",
   "metadata": {},
   "source": [
    "Para analisar a significância dos fatores do modelo faz-se a análise dos p-valores."
   ]
  },
  {
   "cell_type": "code",
   "execution_count": 20,
   "metadata": {},
   "outputs": [
    {
     "data": {
      "text/plain": [
       "A           7.899360e-25\n",
       "B           6.560098e-01\n",
       "C           7.102918e-59\n",
       "D           2.567172e-37\n",
       "A:B         4.573148e-01\n",
       "A:C         2.466888e-06\n",
       "A:D         5.107155e-25\n",
       "B:C         6.439555e-01\n",
       "B:D         5.822989e-01\n",
       "C:D         8.057216e-05\n",
       "Residual             NaN\n",
       "Name: PR(>F), dtype: float64"
      ]
     },
     "execution_count": 20,
     "metadata": {},
     "output_type": "execute_result"
    }
   ],
   "source": [
    "pvalues"
   ]
  },
  {
   "cell_type": "markdown",
   "metadata": {},
   "source": [
    "Os fatores significativos são os que apresentam um p-valor menor que 5%. Isso porque na ANOVA, a hipótese nula é de que todas as médias são iguais. Portanto, um valor p menor que 5% nos leva a rejeitar a hipótese nula e concluir que há alguma associação entre o termo do modelo e a resposta. "
   ]
  },
  {
   "cell_type": "code",
   "execution_count": 21,
   "metadata": {},
   "outputs": [
    {
     "data": {
      "text/plain": [
       "A      7.899360e-25\n",
       "C      7.102918e-59\n",
       "D      2.567172e-37\n",
       "A:C    2.466888e-06\n",
       "A:D    5.107155e-25\n",
       "C:D    8.057216e-05\n",
       "Name: PR(>F), dtype: float64"
      ]
     },
     "execution_count": 21,
     "metadata": {},
     "output_type": "execute_result"
    }
   ],
   "source": [
    "sig_factor = pvalues.loc[pvalues < 0.05]\n",
    "sig_factor"
   ]
  },
  {
   "cell_type": "markdown",
   "metadata": {},
   "source": [
    "Neste caso, os fatores significativos são a direção de laminação, frequência e classe do aço, além da interação entre direção de laminação com frequência e com classe do aço, e da frequência com classo do aço. Pode-se plotar um gráfico do efeito dos fatores e interações para observar suas amplitudes."
   ]
  },
  {
   "cell_type": "code",
   "execution_count": 29,
   "metadata": {},
   "outputs": [],
   "source": [
    "n_coef1 = [\"A\", \"B\", \"C\", \"D\", \"AB\", \"AC\", \"AD\", \"BC\", \"BD\", \"CD\"]\n",
    "coef1 = modelo1_bc.params\n",
    "coef1 = coef1.drop(labels=['Intercept'])\n",
    "\n",
    "coef1_values = coef1.values\n",
    "coef1_names = coef1.index\n",
    "coef1_s = coef1.sort_values()"
   ]
  },
  {
   "cell_type": "code",
   "execution_count": 28,
   "metadata": {},
   "outputs": [
    {
     "data": {
      "text/plain": [
       "<matplotlib.axes._subplots.AxesSubplot at 0x1789f039358>"
      ]
     },
     "execution_count": 28,
     "metadata": {},
     "output_type": "execute_result"
    },
    {
     "data": {
      "image/png": "[encoded data removed]",
      "text/plain": [
       "<Figure size 432x288 with 1 Axes>"
      ]
     },
     "metadata": {
      "needs_background": "light"
     },
     "output_type": "display_data"
    }
   ],
   "source": [
    "fig3 = plt.figure(3)\n",
    "plt.title('Efeitos dos fatores e interações')\n",
    "sns.barplot(x=coef1_values,y=n_coef1,data=df)"
   ]
  },
  {
   "cell_type": "markdown",
   "metadata": {},
   "source": [
    "Portanto, para as perdas totais a 0,5 T os fatores significativos foram direção de laminação, frequência, classe do aço e a interação entre direção de laminação com frequência e com classe do aço, e da frequência com classo do aço. O efeito com maior influência na resposta é a frequência, possuindo um efeito positivo. O efeito positivo faz com que uma mudança do nível baixo para o nível alto resulte em um aumento na variável resposta. Neste caso, o nível baixo era 10Hz e o nível alto era 50Hz. A classe do aço e a direção de corte também são fatores com efeitos positivos nas perdas totais a 0,5 T."
   ]
  },
  {
   "cell_type": "markdown",
   "metadata": {},
   "source": [
    "O mesmo procedimento de análise pode ser aplicado para as outras 5 variáveis resposta."
   ]
  }
 ],
 "metadata": {
  "kernelspec": {
   "display_name": "Python 3",
   "language": "python",
   "name": "python3"
  },
  "language_info": {
   "codemirror_mode": {
    "name": "ipython",
    "version": 3
   },
   "file_extension": ".py",
   "mimetype": "text/x-python",
   "name": "python",
   "nbconvert_exporter": "python",
   "pygments_lexer": "ipython3",
   "version": "3.5.2"
  }
 },
 "nbformat": 4,
 "nbformat_minor": 2
}
